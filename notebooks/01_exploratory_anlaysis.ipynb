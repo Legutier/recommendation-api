{
 "cells": [
  {
   "cell_type": "markdown",
   "metadata": {},
   "source": [
    "# Exploratory Analysis\n",
    "\n",
    "This notebook follows on from `00_download_data` notebook which shows how the data was downloaded from a freely available API. This notebooks focuses on the exploring data particularly in two areas:\n",
    "1. The Frequency of Tags\n",
    "2. The number of votes each tag has for game\n",
    "\n",
    "These two area are explored such that tags which occur infrequently are removed from the data set as they will introduce noise. Secondly, tags which have a low frequency of votes should also potentially be removed as these tags may not best represent the game and the model may overfit as a result of these tags.\n",
    "\n",
    "Let's start by importing the modules we need. The plotting will be done with seaborn."
   ]
  },
  {
   "cell_type": "code",
   "execution_count": 1,
   "metadata": {},
   "outputs": [],
   "source": [
    "from collections import Counter\n",
    "import json\n",
    "import os\n",
    "\n",
    "import matplotlib.pyplot as plt\n",
    "import numpy as np\n",
    "import pandas as pd\n",
    "\n",
    "import seaborn as sns"
   ]
  },
  {
   "cell_type": "code",
   "execution_count": 2,
   "metadata": {},
   "outputs": [],
   "source": [
    "sns.set(rc={'figure.figsize':(15,8)})"
   ]
  },
  {
   "cell_type": "code",
   "execution_count": 3,
   "metadata": {},
   "outputs": [],
   "source": [
    "os.chdir('..')"
   ]
  },
  {
   "cell_type": "markdown",
   "metadata": {},
   "source": [
    "Get a list of game files we have"
   ]
  },
  {
   "cell_type": "code",
   "execution_count": 5,
   "metadata": {},
   "outputs": [],
   "source": [
    "game_files = os.listdir('./data/games')"
   ]
  },
  {
   "cell_type": "code",
   "execution_count": 6,
   "metadata": {},
   "outputs": [
    {
     "data": {
      "text/plain": [
       "33252"
      ]
     },
     "execution_count": 6,
     "metadata": {},
     "output_type": "execute_result"
    }
   ],
   "source": [
    "len(game_files)"
   ]
  },
  {
   "cell_type": "markdown",
   "metadata": {},
   "source": [
    "we have data for over 30,000 steam games.\n",
    "\n",
    "## Tag Votes\n",
    "\n",
    "This section will look at the distribution of the votes for each tag for every game in the dat set. Let's first extract the number of frequency of votes a tag has for each game"
   ]
  },
  {
   "cell_type": "code",
   "execution_count": 7,
   "metadata": {},
   "outputs": [],
   "source": [
    "tag_freqs = []\n",
    "for game in game_files:\n",
    "    with open(f'./data/games/{game}', 'r') as in_json:\n",
    "        game_data = json.load(in_json)\n",
    "        game_tags = game_data['tags']\n",
    "        if game_tags:\n",
    "            for k, v in game_tags.items():\n",
    "                tag_freqs.append(v)"
   ]
  },
  {
   "cell_type": "code",
   "execution_count": 12,
   "metadata": {},
   "outputs": [],
   "source": [
    "tag_freqs = np.array(tag_freqs)"
   ]
  },
  {
   "cell_type": "markdown",
   "metadata": {},
   "source": [
    "Plot the distribution:"
   ]
  },
  {
   "cell_type": "code",
   "execution_count": 9,
   "metadata": {},
   "outputs": [
    {
     "data": {
      "text/plain": [
       "Text(0.5, 0, 'Vote for a Tag (per game)')"
      ]
     },
     "execution_count": 9,
     "metadata": {},
     "output_type": "execute_result"
    },
    {
     "data": {
      "image/png": "[encoded data removed]",
      "text/plain": [
       "<Figure size 1080x576 with 1 Axes>"
      ]
     },
     "metadata": {},
     "output_type": "display_data"
    }
   ],
   "source": [
    "sns.distplot(tag_freqs)\n",
    "plt.xlabel('Vote for a Tag (per game)')"
   ]
  },
  {
   "cell_type": "markdown",
   "metadata": {},
   "source": [
    "Unsurprsingly we have a heavily skewed distribution. Looks like most games have very little votes for a tag.\n",
    "\n",
    "Some summary stats:"
   ]
  },
  {
   "cell_type": "code",
   "execution_count": 10,
   "metadata": {},
   "outputs": [
    {
     "name": "stdout",
     "output_type": "stream",
     "text": [
      "Mean of Tag Votes: 66.53283525749076\n",
      "Median of Tag Votes: 22.0\n"
     ]
    }
   ],
   "source": [
    "print(f'Mean of Tag Votes: {np.mean(tag_freqs)}')\n",
    "print(f'Median of Tag Votes: {np.median(tag_freqs)}')"
   ]
  },
  {
   "cell_type": "code",
   "execution_count": 13,
   "metadata": {},
   "outputs": [
    {
     "data": {
      "text/plain": [
       "count    267563.000000\n",
       "mean         66.532835\n",
       "std         549.068984\n",
       "min           1.000000\n",
       "25%          12.000000\n",
       "50%          22.000000\n",
       "75%          35.000000\n",
       "max       84173.000000\n",
       "dtype: float64"
      ]
     },
     "execution_count": 13,
     "metadata": {},
     "output_type": "execute_result"
    }
   ],
   "source": [
    "pd.Series(tag_freqs).describe()"
   ]
  },
  {
   "cell_type": "markdown",
   "metadata": {},
   "source": [
    "A lot of games have tags will very few votes, we should remove these. How do the numbers look when we look at quantiles:"
   ]
  },
  {
   "cell_type": "code",
   "execution_count": 28,
   "metadata": {},
   "outputs": [
    {
     "name": "stdout",
     "output_type": "stream",
     "text": [
      "Qauntile: 0.05   Frequency: 7.0    N Tags: 13558    Percentage: 5.07\n",
      "Qauntile: 0.10   Frequency: 10.0    N Tags: 36276    Percentage: 13.56\n",
      "Qauntile: 0.15   Frequency: 11.0    N Tags: 54954    Percentage: 20.54\n",
      "Qauntile: 0.20   Frequency: 11.0    N Tags: 54954    Percentage: 20.54\n",
      "Qauntile: 0.25   Frequency: 12.0    N Tags: 68371    Percentage: 25.55\n",
      "Qauntile: 0.30   Frequency: 14.0    N Tags: 83687    Percentage: 31.28\n",
      "Qauntile: 0.35   Frequency: 17.0    N Tags: 96101    Percentage: 35.92\n",
      "Qauntile: 0.40   Frequency: 20.0    N Tags: 109854    Percentage: 41.06\n",
      "Qauntile: 0.45   Frequency: 21.0    N Tags: 131451    Percentage: 49.13\n",
      "Qauntile: 0.50   Frequency: 22.0    N Tags: 143521    Percentage: 53.64\n",
      "Qauntile: 0.55   Frequency: 23.0    N Tags: 150752    Percentage: 56.34\n",
      "Qauntile: 0.60   Frequency: 26.0    N Tags: 163553    Percentage: 61.13\n",
      "Qauntile: 0.65   Frequency: 30.0    N Tags: 175694    Percentage: 65.66\n",
      "Qauntile: 0.70   Frequency: 32.0    N Tags: 191033    Percentage: 71.40\n",
      "Qauntile: 0.75   Frequency: 35.0    N Tags: 201279    Percentage: 75.23\n",
      "Qauntile: 0.80   Frequency: 43.0    N Tags: 215369    Percentage: 80.49\n",
      "Qauntile: 0.85   Frequency: 55.0    N Tags: 227799    Percentage: 85.14\n",
      "Qauntile: 0.90   Frequency: 80.0    N Tags: 240808    Percentage: 90.00\n",
      "Qauntile: 0.95   Frequency: 163.0    N Tags: 254246    Percentage: 95.02\n",
      "Qauntile: 1.00   Frequency: 84173.0    N Tags: 267563    Percentage: 100.00\n"
     ]
    }
   ],
   "source": [
    "for i in np.linspace(0.05, 1, num=20):\n",
    "    quantile = np.quantile(tag_freqs, i)\n",
    "    n_tags = tag_freqs[tag_freqs <= quantile].shape[0]\n",
    "    percent = f'{n_tags / tag_freqs.shape[0] * 100:.2f}'\n",
    "    print(f'Qauntile: {i:.2f}   Frequency: {quantile}    N Tags: {n_tags}    Percentage: {percent}')"
   ]
  },
  {
   "cell_type": "markdown",
   "metadata": {},
   "source": [
    "Wow, 90% of tags present for games have less than or equal to 80 votes, which isn't a lot. Given that we will lose potentially a lot of tags if we set a threshold for the vote count to be higher it should result in a model that derives meaningful relationships between tags. It's a dark art to determine the threshold bit I feel going for tags with a least 100 votes should help remove a lot of the noise.\n",
    "\n",
    "How many tags do we retain if we set the threshold to 100:"
   ]
  },
  {
   "cell_type": "code",
   "execution_count": 31,
   "metadata": {},
   "outputs": [
    {
     "data": {
      "text/plain": [
       "(21613,)"
      ]
     },
     "execution_count": 31,
     "metadata": {},
     "output_type": "execute_result"
    }
   ],
   "source": [
    "tag_freqs[np.array(tag_freqs) >= 100].shape"
   ]
  },
  {
   "cell_type": "markdown",
   "metadata": {},
   "source": [
    "Only 21,613 from 267,563! We now have less tags than there are games! This would suggest to me that we have a lot of games with low tag frequencies, probably from indie developers with small player counts."
   ]
  },
  {
   "cell_type": "markdown",
   "metadata": {},
   "source": [
    "Let's set the minimum number of votes for a tag on a game to be 100"
   ]
  },
  {
   "cell_type": "code",
   "execution_count": 32,
   "metadata": {},
   "outputs": [],
   "source": [
    "TAG_VOTES_MIN = 100"
   ]
  },
  {
   "cell_type": "markdown",
   "metadata": {},
   "source": [
    "## Tag Frequencies Per Game\n",
    "\n",
    "Now lets look at how tags occur across all games and also removing tags that have less than 100 votes"
   ]
  },
  {
   "cell_type": "code",
   "execution_count": 34,
   "metadata": {},
   "outputs": [],
   "source": [
    "tag_occurrence = {}\n",
    "for game in game_files:\n",
    "    with open(f'./data/games/{game}', 'r') as in_json:\n",
    "        game_data = json.load(in_json)\n",
    "        game_tags = game_data['tags']\n",
    "        if game_tags:\n",
    "            for k, v in game_tags.items():\n",
    "                if v >= TAG_VOTES_MIN:\n",
    "                    tag_occurrence[k] = tag_occurrence.get(k, 0) + 1"
   ]
  },
  {
   "cell_type": "code",
   "execution_count": 35,
   "metadata": {},
   "outputs": [
    {
     "data": {
      "text/plain": [
       "1166"
      ]
     },
     "execution_count": 35,
     "metadata": {},
     "output_type": "execute_result"
    }
   ],
   "source": [
    "tag_occurrence['Action']"
   ]
  },
  {
   "cell_type": "markdown",
   "metadata": {},
   "source": [
    "Some summary stats:"
   ]
  },
  {
   "cell_type": "code",
   "execution_count": 36,
   "metadata": {},
   "outputs": [
    {
     "data": {
      "text/plain": [
       "count     370.000000\n",
       "mean       58.413514\n",
       "std       131.034902\n",
       "min         1.000000\n",
       "25%         6.000000\n",
       "50%        15.000000\n",
       "75%        47.750000\n",
       "max      1166.000000\n",
       "dtype: float64"
      ]
     },
     "execution_count": 36,
     "metadata": {},
     "output_type": "execute_result"
    }
   ],
   "source": [
    "pd.Series(list(tag_occurrence.values())).describe()"
   ]
  },
  {
   "cell_type": "markdown",
   "metadata": {},
   "source": [
    "We have a tag(s) that only appears once which won't help the model build any meaningful relationships between the tags. These tags and low frequency tags should be removed.\n",
    "\n",
    "Looking at the quantiles:"
   ]
  },
  {
   "cell_type": "code",
   "execution_count": 37,
   "metadata": {},
   "outputs": [
    {
     "name": "stdout",
     "output_type": "stream",
     "text": [
      "Qauntile: 0.05   Frequency: 1.0\n",
      "Qauntile: 0.10   Frequency: 2.0\n",
      "Qauntile: 0.15   Frequency: 4.0\n",
      "Qauntile: 0.20   Frequency: 5.0\n",
      "Qauntile: 0.25   Frequency: 6.0\n",
      "Qauntile: 0.30   Frequency: 7.0\n",
      "Qauntile: 0.35   Frequency: 9.0\n",
      "Qauntile: 0.40   Frequency: 10.0\n",
      "Qauntile: 0.45   Frequency: 12.0\n",
      "Qauntile: 0.50   Frequency: 15.0\n",
      "Qauntile: 0.55   Frequency: 17.0\n",
      "Qauntile: 0.60   Frequency: 20.0\n",
      "Qauntile: 0.65   Frequency: 27.0\n",
      "Qauntile: 0.70   Frequency: 35.30000000000001\n",
      "Qauntile: 0.75   Frequency: 47.75\n",
      "Qauntile: 0.80   Frequency: 68.39999999999998\n",
      "Qauntile: 0.85   Frequency: 88.0\n",
      "Qauntile: 0.90   Frequency: 143.10000000000002\n",
      "Qauntile: 0.95   Frequency: 266.70000000000016\n",
      "Qauntile: 1.00   Frequency: 1166.0\n"
     ]
    }
   ],
   "source": [
    "for i in np.linspace(0.05, 1, num=20):\n",
    "    print(f'Qauntile: {i:.2f}   Frequency: {np.quantile(list(tag_occurrence.values()), i)}')"
   ]
  },
  {
   "cell_type": "markdown",
   "metadata": {},
   "source": [
    "The lower quantiles are dominated by tags the occure infrequently.\n",
    "\n",
    "Let's plot the frequency of tag frequencies:"
   ]
  },
  {
   "cell_type": "code",
   "execution_count": 38,
   "metadata": {},
   "outputs": [
    {
     "data": {
      "text/plain": [
       "<matplotlib.axes._subplots.AxesSubplot at 0x1850bcf7ef0>"
      ]
     },
     "execution_count": 38,
     "metadata": {},
     "output_type": "execute_result"
    },
    {
     "data": {
      "image/png": "[encoded data removed]",
      "text/plain": [
       "<Figure size 1080x576 with 1 Axes>"
      ]
     },
     "metadata": {},
     "output_type": "display_data"
    }
   ],
   "source": [
    "sns.countplot(list(tag_occurrence.values()))"
   ]
  },
  {
   "cell_type": "markdown",
   "metadata": {},
   "source": [
    "Yup, lot's of tags with low frequencies. We have over 20 tags that only appear once in the data set."
   ]
  },
  {
   "cell_type": "code",
   "execution_count": 41,
   "metadata": {},
   "outputs": [
    {
     "data": {
      "text/plain": [
       "(370,)"
      ]
     },
     "execution_count": 41,
     "metadata": {},
     "output_type": "execute_result"
    }
   ],
   "source": [
    "tag_occurrence_vals = np.array(list(tag_occurrence.values()))\n",
    "tag_occurrence_vals.shape"
   ]
  },
  {
   "cell_type": "markdown",
   "metadata": {},
   "source": [
    "We need to set a threshold for the minimum number of times a tag must appear to be retained. How does the threshold influence the number of tags retained:"
   ]
  },
  {
   "cell_type": "code",
   "execution_count": 54,
   "metadata": {},
   "outputs": [
    {
     "data": {
      "text/plain": [
       "Text(0.5, 1.0, 'Tag Frequency Threshold vs. Number of Tags Retained')"
      ]
     },
     "execution_count": 54,
     "metadata": {},
     "output_type": "execute_result"
    },
    {
     "data": {
      "image/png": "[encoded data removed]",
      "text/plain": [
       "<Figure size 1080x576 with 1 Axes>"
      ]
     },
     "metadata": {},
     "output_type": "display_data"
    }
   ],
   "source": [
    "sns.lineplot(\n",
    "    [i for i in range(1, 101, 1)],\n",
    "    [tag_occurrence_vals[tag_occurrence_vals >= i].shape[0] for i in range(1, 101, 1)]\n",
    ")\n",
    "plt.xlabel('Tag Frequency Threshold')\n",
    "plt.ylabel('Number of Tags Retained')\n",
    "plt.title('Tag Frequency Threshold vs. Number of Tags Retained')"
   ]
  },
  {
   "cell_type": "markdown",
   "metadata": {},
   "source": [
    "The graph clearly shows as the tag threshold increases the number of tags retained drops (duh!), but a takeaway from this plot is the number of tags retained begins to plateau meaning as tag frequency increases the number of tags that are dropped decreases. From the graph I think a threshold of around 20 would be decent. This means that a tag must appear in at least 20 games to be retained."
   ]
  },
  {
   "cell_type": "code",
   "execution_count": 75,
   "metadata": {},
   "outputs": [],
   "source": [
    "MIN_TAG_FREQ_GAME = 20"
   ]
  },
  {
   "cell_type": "markdown",
   "metadata": {},
   "source": [
    "Make a `dict` of all the tags to keep bases on the minimum number of games they must appear in. "
   ]
  },
  {
   "cell_type": "code",
   "execution_count": 76,
   "metadata": {},
   "outputs": [],
   "source": [
    "game_tags_keep = {game : tag_occurrence[game] for game in tag_occurrence if tag_occurrence[game] >= MIN_TAG_FREQ_GAME}"
   ]
  },
  {
   "cell_type": "markdown",
   "metadata": {},
   "source": [
    "Now, create a final data set where both the filters are applied:\n",
    "- A tag must have at least 100 votes for a particular game\n",
    "- A tag must appear in at least 20 games"
   ]
  },
  {
   "cell_type": "code",
   "execution_count": 77,
   "metadata": {},
   "outputs": [],
   "source": [
    "final_data = {}\n",
    "for game in game_files:\n",
    "    with open(f'./data/games/{game}', 'r') as in_json:\n",
    "        game_data = json.load(in_json)\n",
    "        final_data[game_data['name']] = []\n",
    "        game_tags = game_data['tags']\n",
    "        if game_tags:\n",
    "            for k, v in game_tags.items():\n",
    "                if (k in game_tags_keep) and (v >= TAG_VOTES_MIN):\n",
    "                    final_data[game_data['name']].append(k)"
   ]
  },
  {
   "cell_type": "code",
   "execution_count": 78,
   "metadata": {},
   "outputs": [
    {
     "data": {
      "text/plain": [
       "33155"
      ]
     },
     "execution_count": 78,
     "metadata": {},
     "output_type": "execute_result"
    }
   ],
   "source": [
    "len(final_data)"
   ]
  },
  {
   "cell_type": "markdown",
   "metadata": {},
   "source": [
    "Some of the games won't have any tag data due the filters removing all of their tags. Let's removed those games with no tags."
   ]
  },
  {
   "cell_type": "code",
   "execution_count": 79,
   "metadata": {},
   "outputs": [],
   "source": [
    "keys_to_remove = [k for k, v in final_data.items() if not v]\n",
    "for key in keys_to_remove:\n",
    "    final_data.pop(key, None)"
   ]
  },
  {
   "cell_type": "code",
   "execution_count": 80,
   "metadata": {},
   "outputs": [
    {
     "data": {
      "text/plain": [
       "3027"
      ]
     },
     "execution_count": 80,
     "metadata": {},
     "output_type": "execute_result"
    }
   ],
   "source": [
    "len(final_data)"
   ]
  },
  {
   "cell_type": "markdown",
   "metadata": {},
   "source": [
    "Over 3000 games in the final data set"
   ]
  },
  {
   "cell_type": "code",
   "execution_count": 66,
   "metadata": {},
   "outputs": [],
   "source": [
    "with open('./games_with_tags_double_filter.json', 'w') as out:\n",
    "    json.dump(final_data, out)"
   ]
  },
  {
   "cell_type": "code",
   "execution_count": 82,
   "metadata": {},
   "outputs": [
    {
     "data": {
      "text/plain": [
       "['Action',\n",
       " 'FPS',\n",
       " 'Multiplayer',\n",
       " 'Shooter',\n",
       " 'Classic',\n",
       " 'Team-Based',\n",
       " 'First-Person',\n",
       " 'Competitive',\n",
       " 'Tactical',\n",
       " 'PvP',\n",
       " 'Military',\n",
       " 'Strategy',\n",
       " 'Masterpiece',\n",
       " 'Survival',\n",
       " 'Assassin',\n",
       " 'Sexual Content',\n",
       " 'Nudity',\n",
       " 'Mature',\n",
       " 'Anime',\n",
       " 'Casual',\n",
       " 'Indie',\n",
       " 'Simulation',\n",
       " 'Adventure',\n",
       " 'Zombies',\n",
       " 'World War II',\n",
       " 'Co-op',\n",
       " 'Moddable',\n",
       " 'Singleplayer',\n",
       " 'War',\n",
       " 'Online Co-Op',\n",
       " 'Gore',\n",
       " 'Historical',\n",
       " 'Great Soundtrack',\n",
       " 'Horror',\n",
       " 'Open World',\n",
       " 'Third Person',\n",
       " 'Parkour',\n",
       " 'Violent',\n",
       " 'Hack and Slash',\n",
       " 'Action-Adventure',\n",
       " 'Sci-fi',\n",
       " 'RPG',\n",
       " 'Story Rich',\n",
       " 'Atmospheric',\n",
       " 'Psychological Horror',\n",
       " 'Fantasy',\n",
       " 'Action RPG',\n",
       " 'Magic',\n",
       " 'Character Customization',\n",
       " 'Exploration',\n",
       " 'Free to Play',\n",
       " 'Tower Defense',\n",
       " 'Comedy',\n",
       " 'Relaxing',\n",
       " 'Pixel Graphics',\n",
       " 'Turn-Based Strategy',\n",
       " \"Beat 'em up\",\n",
       " 'Dating Sim',\n",
       " 'Early Access',\n",
       " 'City Builder',\n",
       " 'Puzzle',\n",
       " 'Building',\n",
       " 'Colony Sim',\n",
       " 'Turn-Based Tactics',\n",
       " 'Turn-Based',\n",
       " 'Third-Person Shooter',\n",
       " 'Grand Strategy',\n",
       " 'RTS',\n",
       " 'Base-Building',\n",
       " 'Resource Management',\n",
       " 'Real-Time with Pause',\n",
       " 'Open World Survival Craft',\n",
       " 'Sandbox',\n",
       " '2D',\n",
       " 'Crafting',\n",
       " 'Platformer',\n",
       " 'Replay Value',\n",
       " 'JRPG',\n",
       " 'Music',\n",
       " 'Aliens',\n",
       " 'Stealth',\n",
       " 'Blood',\n",
       " 'Survival Horror',\n",
       " 'Rogue-lite',\n",
       " 'Isometric',\n",
       " 'Colorful',\n",
       " 'Post-apocalyptic',\n",
       " 'Space',\n",
       " 'Top-Down',\n",
       " 'Funny',\n",
       " 'Retro',\n",
       " 'Realistic',\n",
       " 'Racing',\n",
       " 'Family Friendly',\n",
       " 'MMORPG',\n",
       " 'Massively Multiplayer',\n",
       " 'Mystery',\n",
       " 'Dark',\n",
       " 'Futuristic',\n",
       " 'Sports',\n",
       " 'Dragons',\n",
       " 'Management',\n",
       " 'Automobile Sim',\n",
       " 'Arcade',\n",
       " 'Detective',\n",
       " 'Crime',\n",
       " 'Visual Novel',\n",
       " 'Choices Matter',\n",
       " 'Local Co-Op',\n",
       " 'Action Roguelike',\n",
       " 'Rogue-like',\n",
       " 'Difficult',\n",
       " 'Dungeon Crawler',\n",
       " 'Bullet Hell',\n",
       " 'Dark Humor',\n",
       " 'Controller',\n",
       " 'Metroidvania',\n",
       " 'Souls-like',\n",
       " 'Driving',\n",
       " 'Physics',\n",
       " 'Destruction',\n",
       " 'Fast-Paced',\n",
       " 'Cyberpunk',\n",
       " 'Medieval',\n",
       " 'Female Protagonist',\n",
       " 'Flight',\n",
       " 'Dystopian ',\n",
       " 'Multiple Endings',\n",
       " 'Dark Fantasy',\n",
       " 'Romance',\n",
       " 'Puzzle-Platformer',\n",
       " 'Fighting',\n",
       " 'Steampunk',\n",
       " 'Robots',\n",
       " '4X',\n",
       " 'Walking Simulator',\n",
       " 'Short',\n",
       " 'Point & Click',\n",
       " 'LEGO',\n",
       " 'Local Multiplayer',\n",
       " 'Side Scroller',\n",
       " '3D Platformer',\n",
       " 'Cute',\n",
       " '4 Player Local',\n",
       " 'Turn-Based Combat',\n",
       " 'Card Game',\n",
       " 'Memes',\n",
       " 'Remake',\n",
       " '2D Fighter',\n",
       " 'VR',\n",
       " 'Economy']"
      ]
     },
     "execution_count": 82,
     "metadata": {},
     "output_type": "execute_result"
    }
   ],
   "source": [
    "list(game_tags_keep.keys())"
   ]
  }
 ],
 "metadata": {
  "kernelspec": {
   "display_name": "Python 3",
   "language": "python",
   "name": "python3"
  },
  "language_info": {
   "codemirror_mode": {
    "name": "ipython",
    "version": 3
   },
   "file_extension": ".py",
   "mimetype": "text/x-python",
   "name": "python",
   "nbconvert_exporter": "python",
   "pygments_lexer": "ipython3",
   "version": "3.7.1"
  }
 },
 "nbformat": 4,
 "nbformat_minor": 2
}
