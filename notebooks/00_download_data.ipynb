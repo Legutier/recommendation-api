{
 "cells": [
  {
   "cell_type": "markdown",
   "metadata": {},
   "source": [
    "# Steam Game Recommendation\n",
    "\n",
    "This is the first notebook in the series to build a steam game recommendation engine based on game tags. This notebook focuses on obtaining the data from [steamspy](https://steamspy.com/). The data is available via a publically exposed [API](https://steamspy.com/api.php).\n",
    "\n",
    "## Downloading Data\n",
    "\n",
    "Import the needed modules"
   ]
  },
  {
   "cell_type": "code",
   "execution_count": 1,
   "metadata": {},
   "outputs": [],
   "source": [
    "import json\n",
    "import os\n",
    "import time\n",
    "from urllib.request import urlopen"
   ]
  },
  {
   "cell_type": "code",
   "execution_count": 2,
   "metadata": {},
   "outputs": [],
   "source": [
    "os.chdir('..')"
   ]
  },
  {
   "cell_type": "markdown",
   "metadata": {},
   "source": [
    "I've created a `download` module to facilitate the downloading of the data."
   ]
  },
  {
   "cell_type": "code",
   "execution_count": 3,
   "metadata": {},
   "outputs": [],
   "source": [
    "import download"
   ]
  },
  {
   "cell_type": "markdown",
   "metadata": {},
   "source": [
    "There are two ways of obtaining the data:\n",
    "1. Cycle through all the tags and get the games for each tag\n",
    "2. Cycle through all the games and get the tags for each game\n",
    "\n",
    "Option 1 is significantly faster (only ~400 tags) but misses out on a vital piece of information that option 2 provides. Option 2 along with the tags provides the number of votes attributed for a tag for a given game. This will help remove tags that have a low frequency for games and thus reduce the noise in the data set.\n",
    "\n",
    "Going with option 2, we first need to get all the games on steam via the `download.download_all_json_data` method. With obtains all of the game data on steamspy and returns it as a json. To save space and query time the game data does not contain tag information this was intentionally done by the developers."
   ]
  },
  {
   "cell_type": "code",
   "execution_count": 5,
   "metadata": {},
   "outputs": [],
   "source": [
    "all_data = download.download_all_json_data()"
   ]
  },
  {
   "cell_type": "markdown",
   "metadata": {},
   "source": [
    "The game-tag data is placed in the `/data/games/` folder. If for whatever reason the download fails e.g. connection drop, running the cell below will obtain a list of all the game we have data for. Therefore, when restarting the download we can skip the game we have data for."
   ]
  },
  {
   "cell_type": "code",
   "execution_count": 6,
   "metadata": {},
   "outputs": [],
   "source": [
    "all_games = os.listdir('./data/games')"
   ]
  },
  {
   "cell_type": "markdown",
   "metadata": {},
   "source": [
    "The section of code below downloads the tag data for each game. We iterate through the `all_data` JSON object which has the following schema: \n",
    "- key: game ID\n",
    "- value: game data\n",
    "\n",
    "We then check if we have data for this game if we do we skip it and move on to the next game. In the case of no data, a call to the steamspy API is made via the `download.get_game_data` method which takes the game ID as an argument. Once the data is obtained it is saved into the folder mentioned above with the filename schema: `[game ID].json`. Finally, we then wait 0.333 seconds as there is a request limit implemented on the server side."
   ]
  },
  {
   "cell_type": "code",
   "execution_count": 14,
   "metadata": {},
   "outputs": [
    {
     "name": "stdout",
     "output_type": "stream",
     "text": [
      "30000\n"
     ]
    }
   ],
   "source": [
    "for i, (game_id, game_data) in enumerate(all_data.items()):\n",
    "    game_file = f'{game_id}.json'\n",
    "    if game_file in all_games:\n",
    "        continue\n",
    "    tag_data = download.get_game_data(game_data['appid'])\n",
    "    with open(f'./data/games/{game_file}', 'w') as json_out:\n",
    "        json.dump(tag_data, json_out)\n",
    "    if i % 10000 == 0:\n",
    "        print(i)\n",
    "    time.sleep(0.333)"
   ]
  },
  {
   "cell_type": "markdown",
   "metadata": {},
   "source": [
    "That's it. You should now have all the data you need to build a recommendation ending. The next step is to do some analysis of the data and determining if some cleaning is required."
   ]
  }
 ],
 "metadata": {
  "kernelspec": {
   "display_name": "Python 3",
   "language": "python",
   "name": "python3"
  },
  "language_info": {
   "codemirror_mode": {
    "name": "ipython",
    "version": 3
   },
   "file_extension": ".py",
   "mimetype": "text/x-python",
   "name": "python",
   "nbconvert_exporter": "python",
   "pygments_lexer": "ipython3",
   "version": "3.7.1"
  }
 },
 "nbformat": 4,
 "nbformat_minor": 2
}
