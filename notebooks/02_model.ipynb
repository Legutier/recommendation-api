{
 "cells": [
  {
   "cell_type": "markdown",
   "metadata": {},
   "source": [
    "# Model\n",
    "\n",
    "This notebook focuses on building and training an embedding model with Keras. \n",
    "\n",
    "**The idea and parts of the code were taken from [this](https://towardsdatascience.com/building-a-recommendation-system-using-neural-network-embeddings-1ef92e5c80c9) Medium post!**"
   ]
  },
  {
   "cell_type": "code",
   "execution_count": 1,
   "metadata": {},
   "outputs": [],
   "source": [
    "import json\n",
    "import os\n",
    "import random\n",
    "\n",
    "import numpy as np"
   ]
  },
  {
   "cell_type": "code",
   "execution_count": 2,
   "metadata": {},
   "outputs": [],
   "source": [
    "os.chdir('..')"
   ]
  },
  {
   "cell_type": "code",
   "execution_count": 3,
   "metadata": {},
   "outputs": [],
   "source": [
    "random.seed(42)\n",
    "np.random.seed(42)"
   ]
  },
  {
   "cell_type": "markdown",
   "metadata": {},
   "source": [
    "Load in the filtered data"
   ]
  },
  {
   "cell_type": "code",
   "execution_count": 4,
   "metadata": {},
   "outputs": [],
   "source": [
    "with open('games_with_tags_double_filter.json', 'r') as in_json:\n",
    "    games_with_tags = json.load(in_json)"
   ]
  },
  {
   "cell_type": "markdown",
   "metadata": {},
   "source": [
    "Generate mapping for games to indices and the same for tags:"
   ]
  },
  {
   "cell_type": "code",
   "execution_count": 7,
   "metadata": {},
   "outputs": [],
   "source": [
    "game_index = {game: idx for idx, game in enumerate(games_with_tags)}\n",
    "index_game = {idx: game for game, idx in game_index.items()}"
   ]
  },
  {
   "cell_type": "code",
   "execution_count": 8,
   "metadata": {},
   "outputs": [],
   "source": [
    "tag_count = 0\n",
    "tag_index = {}\n",
    "for game, tags in games_with_tags.items():\n",
    "    for tag in tags:\n",
    "        if tag not in tag_index:\n",
    "            tag_index[tag] = tag_count\n",
    "            tag_count += 1\n",
    "index_tag = {idx: tag for tag, idx in tag_index.items()}"
   ]
  },
  {
   "cell_type": "code",
   "execution_count": 9,
   "metadata": {},
   "outputs": [
    {
     "name": "stdout",
     "output_type": "stream",
     "text": [
      "n game: 3027\n",
      "n tags: 151\n"
     ]
    }
   ],
   "source": [
    "print(f'n game: {len(game_index)}')\n",
    "print(f'n tags: {len(tag_index)}')"
   ]
  },
  {
   "cell_type": "markdown",
   "metadata": {},
   "source": [
    "Creating a set of true pairs where a game actually has a given tag. Note the game index and the tag index are what is stored in the `pairs` list"
   ]
  },
  {
   "cell_type": "code",
   "execution_count": 10,
   "metadata": {},
   "outputs": [],
   "source": [
    "pairs = []\n",
    "for game, tags in games_with_tags.items():\n",
    "    for tag in tags:\n",
    "        pairs.append(tuple((game_index[game], tag_index[tag])))"
   ]
  },
  {
   "cell_type": "markdown",
   "metadata": {},
   "source": [
    "Taking a look at the first pair:"
   ]
  },
  {
   "cell_type": "code",
   "execution_count": 11,
   "metadata": {},
   "outputs": [
    {
     "data": {
      "text/plain": [
       "(0, 0)"
      ]
     },
     "execution_count": 11,
     "metadata": {},
     "output_type": "execute_result"
    }
   ],
   "source": [
    "pairs[0]"
   ]
  },
  {
   "cell_type": "markdown",
   "metadata": {},
   "source": [
    "Now, relate those indices back to a game name and tag name"
   ]
  },
  {
   "cell_type": "code",
   "execution_count": 12,
   "metadata": {},
   "outputs": [
    {
     "data": {
      "text/plain": [
       "('Counter-Strike', 'Action')"
      ]
     },
     "execution_count": 12,
     "metadata": {},
     "output_type": "execute_result"
    }
   ],
   "source": [
    "index_game[pairs[0][0]], index_tag[pairs[0][1]]"
   ]
  },
  {
   "cell_type": "code",
   "execution_count": 13,
   "metadata": {},
   "outputs": [
    {
     "data": {
      "text/plain": [
       "('GunZ 2: The Second Duel', 'Free to Play')"
      ]
     },
     "execution_count": 13,
     "metadata": {},
     "output_type": "execute_result"
    }
   ],
   "source": [
    "index_game[pairs[5000][0]], index_tag[pairs[5000][1]]"
   ]
  },
  {
   "cell_type": "markdown",
   "metadata": {},
   "source": [
    "Creating a set object of the pairs. This set will be used to identify if a game - tag relationship ship exists and will be used to create a negative training data set. Using a set should speed things up a bit at the items in the set will be hashed and should be faster than `pair in pairs` as this is a linear search "
   ]
  },
  {
   "cell_type": "code",
   "execution_count": 15,
   "metadata": {},
   "outputs": [],
   "source": [
    "pairs_set = set(pairs)"
   ]
  },
  {
   "cell_type": "code",
   "execution_count": 16,
   "metadata": {},
   "outputs": [
    {
     "data": {
      "text/plain": [
       "True"
      ]
     },
     "execution_count": 16,
     "metadata": {},
     "output_type": "execute_result"
    }
   ],
   "source": [
    "(0, 0) in pairs_set"
   ]
  },
  {
   "cell_type": "markdown",
   "metadata": {},
   "source": [
    "Create a generator method to yield data as required:"
   ]
  },
  {
   "cell_type": "code",
   "execution_count": 17,
   "metadata": {},
   "outputs": [],
   "source": [
    "random.seed(100)\n",
    "\n",
    "def generate_batch(pairs, n_positive = 50, negative_ratio = 1.0, classification = False):\n",
    "    \"\"\"Generate batches of samples for training\"\"\"\n",
    "    batch_size = n_positive * (1 + negative_ratio)\n",
    "    batch = np.zeros((batch_size, 3))\n",
    "    \n",
    "    # Adjust label based on task\n",
    "    if classification:\n",
    "        neg_label = 0\n",
    "    else:\n",
    "        neg_label = -1\n",
    "    \n",
    "    # This creates a generator\n",
    "    while True:\n",
    "        # randomly choose positive examples\n",
    "        for idx, (game_id, tag_id) in enumerate(random.sample(pairs, n_positive)):\n",
    "            batch[idx, :] = (game_id, tag_id, 1)\n",
    "\n",
    "        # Increment idx by 1\n",
    "        idx += 1\n",
    "        \n",
    "        # Add negative examples until reach batch size\n",
    "        while idx < batch_size:\n",
    "            \n",
    "            # random selection\n",
    "            random_game = random.randrange(len(game_index))\n",
    "            random_tag = random.randrange(len(tag_index))\n",
    "            \n",
    "            # Check to make sure this is not a positive example\n",
    "            if (random_game, random_tag) not in pairs_set:\n",
    "                \n",
    "                # Add to batch and increment index\n",
    "                batch[idx, :] = (random_game, random_tag, neg_label)\n",
    "                idx += 1\n",
    "                \n",
    "        # Make sure to shuffle order\n",
    "        np.random.shuffle(batch)\n",
    "        yield {'game': batch[:, 0], 'tag': batch[:, 1]}, batch[:, 2]"
   ]
  },
  {
   "cell_type": "code",
   "execution_count": 18,
   "metadata": {},
   "outputs": [
    {
     "data": {
      "text/plain": [
       "({'game': array([ 637., 2151., 1775., 1863., 2998., 2889.]),\n",
       "  'tag': array([ 72.,  41., 129.,  44.,  89., 100.])},\n",
       " array([ 1.,  1., -1., -1., -1., -1.]))"
      ]
     },
     "execution_count": 18,
     "metadata": {},
     "output_type": "execute_result"
    }
   ],
   "source": [
    "next(generate_batch(pairs, n_positive = 2, negative_ratio = 2))"
   ]
  },
  {
   "cell_type": "code",
   "execution_count": 19,
   "metadata": {},
   "outputs": [
    {
     "data": {
      "text/plain": [
       "'Counter-Strike: Source'"
      ]
     },
     "execution_count": 19,
     "metadata": {},
     "output_type": "execute_result"
    }
   ],
   "source": [
    "index_game[637]"
   ]
  },
  {
   "cell_type": "code",
   "execution_count": 20,
   "metadata": {},
   "outputs": [
    {
     "data": {
      "text/plain": [
       "'Sandbox'"
      ]
     },
     "execution_count": 20,
     "metadata": {},
     "output_type": "execute_result"
    }
   ],
   "source": [
    "index_tag[72]"
   ]
  },
  {
   "cell_type": "code",
   "execution_count": 21,
   "metadata": {},
   "outputs": [
    {
     "data": {
      "text/plain": [
       "'Dungeon Fighter Online'"
      ]
     },
     "execution_count": 21,
     "metadata": {},
     "output_type": "execute_result"
    }
   ],
   "source": [
    "index_game[2151]"
   ]
  },
  {
   "cell_type": "code",
   "execution_count": 22,
   "metadata": {},
   "outputs": [
    {
     "data": {
      "text/plain": [
       "'RPG'"
      ]
     },
     "execution_count": 22,
     "metadata": {},
     "output_type": "execute_result"
    }
   ],
   "source": [
    "index_tag[41]"
   ]
  },
  {
   "cell_type": "markdown",
   "metadata": {},
   "source": [
    "Have a look at a training batch:"
   ]
  },
  {
   "cell_type": "code",
   "execution_count": 23,
   "metadata": {},
   "outputs": [
    {
     "name": "stdout",
     "output_type": "stream",
     "text": [
      "Game: Risen 3 - Titan Lords          Tag: Parkour                                  Label: -1.0\n",
      "Game: The Technomancer               Tag: Early Access                             Label: -1.0\n",
      "Game: Heroes & Generals              Tag: Simulation                               Label: 1.0\n",
      "Game: PlanetSide 2                   Tag: First-Person                             Label: 1.0\n",
      "Game: Armello                        Tag: Masterpiece                              Label: -1.0\n",
      "Game: Icewind Dale: Enhanced Edition Tag: Comedy                                   Label: -1.0\n",
      "Game: Prison Architect               Tag: Resource Management                      Label: 1.0\n",
      "Game: Blast Zone! Tournament         Tag: Action                                   Label: 1.0\n",
      "Game: Battle for the Galaxy          Tag: Comedy                                   Label: -1.0\n",
      "Game: BATTALION 1944                 Tag: Action                                   Label: 1.0\n"
     ]
    }
   ],
   "source": [
    "x, y = next(generate_batch(pairs, n_positive = 5, negative_ratio = 1))\n",
    "\n",
    "# Show a few example training pairs\n",
    "for label, b_idx, l_idx in zip(y, x['game'], x['tag']):\n",
    "    print(f'Game: {index_game[b_idx]:30} Tag: {index_tag[l_idx]:40} Label: {label}')"
   ]
  },
  {
   "cell_type": "code",
   "execution_count": 24,
   "metadata": {},
   "outputs": [
    {
     "name": "stderr",
     "output_type": "stream",
     "text": [
      "Using TensorFlow backend.\n"
     ]
    }
   ],
   "source": [
    "from keras.layers import (\n",
    "    Input,\n",
    "    Embedding,\n",
    "    Dot,\n",
    "    Reshape,\n",
    "    Dense\n",
    ")\n",
    "from keras.models import Model\n",
    "import tensorflow as tf"
   ]
  },
  {
   "cell_type": "code",
   "execution_count": 25,
   "metadata": {},
   "outputs": [],
   "source": [
    "tf.random.set_seed(42)"
   ]
  },
  {
   "cell_type": "markdown",
   "metadata": {},
   "source": [
    "A function to build the embedding model"
   ]
  },
  {
   "cell_type": "code",
   "execution_count": 26,
   "metadata": {},
   "outputs": [],
   "source": [
    "def game_embedding_model(embedding_size = 100, classification = False):\n",
    "    \"\"\"Model to embed game and tags using the functional API.\n",
    "       Trained to discern if a tag is present for a game\"\"\"\n",
    "    \n",
    "    # Both inputs are 1-dimensional\n",
    "    game = Input(name = 'game', shape = [1])\n",
    "    tag = Input(name = 'tag', shape = [1])\n",
    "    \n",
    "    # Embedding the game (shape will be (None, 1, 50))\n",
    "    game_embedding = Embedding(name = 'game_embedding',\n",
    "                               input_dim = len(game_index),\n",
    "                               output_dim = embedding_size)(game)\n",
    "    \n",
    "    # Embedding the tag (shape will be (None, 1, 50))\n",
    "    tag_embedding = Embedding(name = 'tag_embedding',\n",
    "                               input_dim = len(tag_index),\n",
    "                               output_dim = embedding_size)(tag)\n",
    "    \n",
    "    # Merge the layers with a dot product along the second axis (shape will be (None, 1, 1))\n",
    "    merged = Dot(name = 'dot_product', normalize = True, axes = 2)([game_embedding, tag_embedding])\n",
    "    \n",
    "    # Reshape to be a single number (shape will be (None, 1))\n",
    "    merged = Reshape(target_shape = [1])(merged)\n",
    "    \n",
    "    # If classifcation, add extra layer and loss function is binary cross entropy\n",
    "    if classification:\n",
    "        merged = Dense(1, activation = 'sigmoid')(merged)\n",
    "        model = Model(inputs = [book, link], outputs = merged)\n",
    "        model.compile(optimizer = 'Adam', loss = 'binary_crossentropy', metrics = ['accuracy'])\n",
    "    \n",
    "    # Otherwise loss function is mean squared error\n",
    "    else:\n",
    "        model = Model(inputs = [game, tag], outputs = merged)\n",
    "        model.compile(optimizer = 'Adam', loss = 'mse')\n",
    "    \n",
    "    return model"
   ]
  },
  {
   "cell_type": "code",
   "execution_count": 107,
   "metadata": {},
   "outputs": [
    {
     "name": "stdout",
     "output_type": "stream",
     "text": [
      "Model: \"model_6\"\n",
      "__________________________________________________________________________________________________\n",
      "Layer (type)                    Output Shape         Param #     Connected to                     \n",
      "==================================================================================================\n",
      "game (InputLayer)               (None, 1)            0                                            \n",
      "__________________________________________________________________________________________________\n",
      "tag (InputLayer)                (None, 1)            0                                            \n",
      "__________________________________________________________________________________________________\n",
      "game_embedding (Embedding)      (None, 1, 200)       605400      game[0][0]                       \n",
      "__________________________________________________________________________________________________\n",
      "tag_embedding (Embedding)       (None, 1, 200)       30200       tag[0][0]                        \n",
      "__________________________________________________________________________________________________\n",
      "dot_product (Dot)               (None, 1, 1)         0           game_embedding[0][0]             \n",
      "                                                                 tag_embedding[0][0]              \n",
      "__________________________________________________________________________________________________\n",
      "reshape_6 (Reshape)             (None, 1)            0           dot_product[0][0]                \n",
      "==================================================================================================\n",
      "Total params: 635,600\n",
      "Trainable params: 635,600\n",
      "Non-trainable params: 0\n",
      "__________________________________________________________________________________________________\n"
     ]
    }
   ],
   "source": [
    "model = game_embedding_model(embedding_size=200)\n",
    "model.summary()"
   ]
  },
  {
   "cell_type": "code",
   "execution_count": 108,
   "metadata": {},
   "outputs": [
    {
     "name": "stderr",
     "output_type": "stream",
     "text": [
      "c:\\users\\harpal\\envs\\steam_recommendation\\lib\\site-packages\\tensorflow_core\\python\\framework\\indexed_slices.py:424: UserWarning: Converting sparse IndexedSlices to a dense Tensor of unknown shape. This may consume a large amount of memory.\n",
      "  \"Converting sparse IndexedSlices to a dense Tensor of unknown shape. \"\n"
     ]
    },
    {
     "name": "stdout",
     "output_type": "stream",
     "text": [
      "Epoch 1/20\n",
      " - 1s - loss: 0.9937\n",
      "Epoch 2/20\n",
      " - 0s - loss: 0.9639\n",
      "Epoch 3/20\n",
      " - 0s - loss: 0.9253\n",
      "Epoch 4/20\n",
      " - 0s - loss: 0.8609\n",
      "Epoch 5/20\n",
      " - 0s - loss: 0.7672\n",
      "Epoch 6/20\n",
      " - 0s - loss: 0.6686\n",
      "Epoch 7/20\n",
      " - 0s - loss: 0.5873\n",
      "Epoch 8/20\n",
      " - 0s - loss: 0.5427\n",
      "Epoch 9/20\n",
      " - 0s - loss: 0.5138\n",
      "Epoch 10/20\n",
      " - 0s - loss: 0.4902\n",
      "Epoch 11/20\n",
      " - 0s - loss: 0.4799\n",
      "Epoch 12/20\n",
      " - 0s - loss: 0.4695\n",
      "Epoch 13/20\n",
      " - 0s - loss: 0.4706\n",
      "Epoch 14/20\n",
      " - 0s - loss: 0.4545\n",
      "Epoch 15/20\n",
      " - 0s - loss: 0.4488\n",
      "Epoch 16/20\n",
      " - 0s - loss: 0.4430\n",
      "Epoch 17/20\n",
      " - 0s - loss: 0.4432\n",
      "Epoch 18/20\n",
      " - 0s - loss: 0.4385\n",
      "Epoch 19/20\n",
      " - 0s - loss: 0.4378\n",
      "Epoch 20/20\n",
      " - 0s - loss: 0.4316\n"
     ]
    }
   ],
   "source": [
    "n_positive = 1024\n",
    "\n",
    "gen = generate_batch(pairs, n_positive, negative_ratio = 2)\n",
    "\n",
    "# Train\n",
    "h = model.fit_generator(\n",
    "    gen,\n",
    "    epochs = 20, \n",
    "    steps_per_epoch = len(pairs) // n_positive,\n",
    "    verbose = 2\n",
    ")"
   ]
  },
  {
   "cell_type": "markdown",
   "metadata": {},
   "source": [
    "The loss was reduced over successive epochs which means the network was learning something!"
   ]
  },
  {
   "cell_type": "code",
   "execution_count": 109,
   "metadata": {},
   "outputs": [],
   "source": [
    "model.save('./models/double_filter_emb_200.h5')"
   ]
  },
  {
   "cell_type": "code",
   "execution_count": 110,
   "metadata": {},
   "outputs": [
    {
     "data": {
      "text/plain": [
       "(3027, 200)"
      ]
     },
     "execution_count": 110,
     "metadata": {},
     "output_type": "execute_result"
    }
   ],
   "source": [
    "# Extract embeddings\n",
    "game_layer = model.get_layer('game_embedding')\n",
    "game_weights = game_layer.get_weights()[0]\n",
    "game_weights.shape"
   ]
  },
  {
   "cell_type": "markdown",
   "metadata": {},
   "source": [
    "Each game is now represented as a 50-dimensional vector.\n",
    "\n",
    "We need to normalize the embeddings so that the dot product between two embeddings becomes the cosine similarity."
   ]
  },
  {
   "cell_type": "code",
   "execution_count": 111,
   "metadata": {},
   "outputs": [
    {
     "data": {
      "text/plain": [
       "1.0"
      ]
     },
     "execution_count": 111,
     "metadata": {},
     "output_type": "execute_result"
    }
   ],
   "source": [
    "game_weights = game_weights / np.linalg.norm(game_weights, axis = 1).reshape((-1, 1))\n",
    "game_weights[0][:10]\n",
    "np.sum(np.square(game_weights[0]))"
   ]
  },
  {
   "cell_type": "code",
   "execution_count": 113,
   "metadata": {},
   "outputs": [],
   "source": [
    "# Method to find the closest matches to the game in question\n",
    "def find_closest(game_embedding: np.array) -> None:\n",
    "    dists = np.dot(game_weights, game_embedding)\n",
    "    sorted_dists = np.argsort(dists)\n",
    "    closest = sorted_dists[-6:]\n",
    "    for c in reversed(closest):\n",
    "        print(f'GAME: {index_game[c]:{40}} Similarity: {dists[c]:.{2}}')"
   ]
  },
  {
   "cell_type": "code",
   "execution_count": 114,
   "metadata": {},
   "outputs": [
    {
     "name": "stdout",
     "output_type": "stream",
     "text": [
      "GAME: Age of Empires II: Definitive Edition    Similarity: 1.0\n",
      "GAME: Act of Aggression - Reboot Edition       Similarity: 0.97\n",
      "GAME: Total Annihilation                       Similarity: 0.96\n",
      "GAME: Tooth and Tail                           Similarity: 0.95\n",
      "GAME: Warhammer 40,000: Dawn of War II Chaos Rising Similarity: 0.95\n",
      "GAME: Sudden Strike 4                          Similarity: 0.95\n"
     ]
    }
   ],
   "source": [
    "find_closest(game_weights[game_index['Age of Empires II: Definitive Edition']])"
   ]
  },
  {
   "cell_type": "code",
   "execution_count": 115,
   "metadata": {},
   "outputs": [
    {
     "name": "stdout",
     "output_type": "stream",
     "text": [
      "GAME: Age of Mythology: Extended Edition       Similarity: 1.0\n",
      "GAME: Heroes of Might & Magic III - HD Edition Similarity: 0.86\n",
      "GAME: Total War: WARHAMMER                     Similarity: 0.85\n",
      "GAME: Rise of Nations: Extended Edition        Similarity: 0.85\n",
      "GAME: Total War: ROME II - Emperor Edition     Similarity: 0.85\n",
      "GAME: Total War: THREE KINGDOMS                Similarity: 0.85\n"
     ]
    }
   ],
   "source": [
    "find_closest(game_weights[game_index['Age of Mythology: Extended Edition']])"
   ]
  },
  {
   "cell_type": "code",
   "execution_count": 116,
   "metadata": {},
   "outputs": [
    {
     "name": "stdout",
     "output_type": "stream",
     "text": [
      "GAME: Total War: WARHAMMER                     Similarity: 1.0\n",
      "GAME: Total War: WARHAMMER II                  Similarity: 0.92\n",
      "GAME: Total War: THREE KINGDOMS                Similarity: 0.89\n",
      "GAME: Total War: ROME II - Emperor Edition     Similarity: 0.86\n",
      "GAME: Age of Mythology: Extended Edition       Similarity: 0.85\n",
      "GAME: Heroes of Might & Magic III - HD Edition Similarity: 0.83\n"
     ]
    }
   ],
   "source": [
    "find_closest(game_weights[game_index['Total War: WARHAMMER']])"
   ]
  },
  {
   "cell_type": "markdown",
   "metadata": {},
   "source": [
    "Not bad."
   ]
  },
  {
   "cell_type": "code",
   "execution_count": 117,
   "metadata": {},
   "outputs": [],
   "source": [
    "def extract_weights(name, model):\n",
    "    \"\"\"Extract weights from a neural network model\"\"\"\n",
    "    \n",
    "    # Extract weights\n",
    "    weight_layer = model.get_layer(name)\n",
    "    weights = weight_layer.get_weights()[0]\n",
    "    \n",
    "    # Normalize\n",
    "    weights = weights / np.linalg.norm(weights, axis = 1).reshape((-1, 1))\n",
    "    return weights"
   ]
  },
  {
   "cell_type": "code",
   "execution_count": 118,
   "metadata": {},
   "outputs": [],
   "source": [
    "tag_weights = extract_weights('tag_embedding', model)"
   ]
  },
  {
   "cell_type": "markdown",
   "metadata": {},
   "source": [
    "Find closest tags to `RTS`"
   ]
  },
  {
   "cell_type": "code",
   "execution_count": 119,
   "metadata": {},
   "outputs": [
    {
     "name": "stdout",
     "output_type": "stream",
     "text": [
      "GAME: RTS                                      Similarity: 1.0\n",
      "GAME: Grand Strategy                           Similarity: 0.87\n",
      "GAME: Historical                               Similarity: 0.85\n",
      "GAME: War                                      Similarity: 0.83\n",
      "GAME: Tactical                                 Similarity: 0.82\n",
      "GAME: Turn-Based Strategy                      Similarity: 0.82\n"
     ]
    }
   ],
   "source": [
    "dists = np.dot(tag_weights, tag_weights[tag_index['RTS']])\n",
    "sorted_dists = np.argsort(dists)\n",
    "closest = sorted_dists[-6:]\n",
    "for c in reversed(closest):\n",
    "    print(f'GAME: {index_tag[c]:{40}} Similarity: {dists[c]:.{2}}')"
   ]
  },
  {
   "cell_type": "markdown",
   "metadata": {},
   "source": [
    "An idea I had would be to operations on embeddings. Say we have `Age of Mythology` which is a game we like but not so much the `fantasy` element. We could potentially remove what the model has \"learned\" as fantasy and make new recommendations based on this. Essentially take the `Age of Mythology` embedding and subtract the `Fantasy` tag embedding, re-normalise and make new recommendations."
   ]
  },
  {
   "cell_type": "code",
   "execution_count": 122,
   "metadata": {},
   "outputs": [],
   "source": [
    "def subtract_tag(tag: str, game: str) -> np.array:\n",
    "    \"\"\"\n",
    "    Subtracts a tag embedding from a game embedding and normalises\n",
    "    \n",
    "    :type tag: str\n",
    "    :param tag: Tag to subtract from game embedding\n",
    "    :type game: str\n",
    "    :param game: Game which tag embedding is subtracted from\n",
    "    :rtype: np.array\n",
    "    :return: New game array with the tag embedding removed\n",
    "    \"\"\"\n",
    "    new_game_weight = game_weights[game_index[game]] - tag_weights[tag_index[tag]]\n",
    "    return new_game_weight / np.linalg.norm(new_game_weight).reshape((-1, 1))[0]\n",
    "\n",
    "def add_tag(tag: str, game: str) -> np.array:\n",
    "    \"\"\"\n",
    "    Adds a tag embedding from a game embedding and normalises\n",
    "    \n",
    "    :type tag: str\n",
    "    :param tag: Tag to add to game embedding\n",
    "    :type game: str\n",
    "    :param game: Game which tag embedding is added to\n",
    "    :rtype: np.array\n",
    "    :return: New game array with the tag embedding added\n",
    "    \"\"\"\n",
    "    new_game_weight = game_weights[game_index[game]] + tag_weights[tag_index[tag]]\n",
    "    return new_game_weight / np.linalg.norm(new_game_weight).reshape((-1, 1))[0]"
   ]
  },
  {
   "cell_type": "code",
   "execution_count": 123,
   "metadata": {},
   "outputs": [
    {
     "name": "stdout",
     "output_type": "stream",
     "text": [
      "GAME: Insect Simulator                         Similarity: 0.86\n",
      "GAME: CryoFall                                 Similarity: 0.85\n",
      "GAME: INTERSTELLAR PRIME                       Similarity: 0.84\n",
      "GAME: All Guns On Deck                         Similarity: 0.83\n",
      "GAME: War for the Overworld                    Similarity: 0.83\n",
      "GAME: Sandbox Anything                         Similarity: 0.82\n"
     ]
    }
   ],
   "source": [
    "find_closest(subtract_tag('Classic', 'Age of Mythology: Extended Edition'))"
   ]
  },
  {
   "cell_type": "code",
   "execution_count": 124,
   "metadata": {},
   "outputs": [
    {
     "name": "stdout",
     "output_type": "stream",
     "text": [
      "GAME: ARMA: Cold War Assault                   Similarity: 0.84\n",
      "GAME: Ashes of the Singularity: Escalation     Similarity: 0.83\n",
      "GAME: Takedown: Red Sabre                      Similarity: 0.82\n",
      "GAME: Wargame: Red Dragon                      Similarity: 0.79\n",
      "GAME: Rise of Nations: Extended Edition        Similarity: 0.79\n",
      "GAME: Call to Arms                             Similarity: 0.78\n"
     ]
    }
   ],
   "source": [
    "find_closest(subtract_tag('Fantasy', 'Age of Mythology: Extended Edition'))"
   ]
  },
  {
   "cell_type": "code",
   "execution_count": 125,
   "metadata": {},
   "outputs": [
    {
     "name": "stdout",
     "output_type": "stream",
     "text": [
      "GAME: Rocket League                            Similarity: 1.0\n",
      "GAME: Stick Fight: The Game                    Similarity: 0.78\n",
      "GAME: SpeedRunners                             Similarity: 0.78\n",
      "GAME: Overcooked                               Similarity: 0.77\n",
      "GAME: The Expendabros                          Similarity: 0.76\n",
      "GAME: Hot Shot Burn                            Similarity: 0.75\n"
     ]
    }
   ],
   "source": [
    "find_closest(game_weights[game_index['Rocket League']])"
   ]
  },
  {
   "cell_type": "code",
   "execution_count": 126,
   "metadata": {},
   "outputs": [
    {
     "name": "stdout",
     "output_type": "stream",
     "text": [
      "GAME: FORCED: Slightly Better Edition          Similarity: 0.85\n",
      "GAME: Witch It                                 Similarity: 0.84\n",
      "GAME: Mirador                                  Similarity: 0.84\n",
      "GAME: CS2D                                     Similarity: 0.84\n",
      "GAME: Trine 2: Complete Story                  Similarity: 0.83\n",
      "GAME: Overcooked! 2                            Similarity: 0.82\n"
     ]
    }
   ],
   "source": [
    "find_closest(subtract_tag('Sports', 'Rocket League'))"
   ]
  },
  {
   "cell_type": "code",
   "execution_count": 127,
   "metadata": {},
   "outputs": [
    {
     "name": "stdout",
     "output_type": "stream",
     "text": [
      "GAME: theHunter: Primal                        Similarity: 0.92\n",
      "GAME: Far Cry 2: Fortune's Edition             Similarity: 0.88\n",
      "GAME: Mirador                                  Similarity: 0.86\n",
      "GAME: Far Cry New Dawn                         Similarity: 0.86\n",
      "GAME: WT3                                      Similarity: 0.86\n",
      "GAME: Generation Zero                          Similarity: 0.86\n"
     ]
    }
   ],
   "source": [
    "find_closest(subtract_tag('Sports', 'GRID 2'))"
   ]
  },
  {
   "cell_type": "code",
   "execution_count": 128,
   "metadata": {},
   "outputs": [
    {
     "name": "stdout",
     "output_type": "stream",
     "text": [
      "GAME: GRID 2                                   Similarity: 1.0\n",
      "GAME: RaceRoom Racing Experience               Similarity: 0.86\n",
      "GAME: Wreckfest                                Similarity: 0.83\n",
      "GAME: Assetto Corsa                            Similarity: 0.82\n",
      "GAME: Project CARS                             Similarity: 0.81\n",
      "GAME: Need For Speed: Hot Pursuit              Similarity: 0.79\n"
     ]
    }
   ],
   "source": [
    "find_closest(game_weights[game_index['GRID 2']])"
   ]
  },
  {
   "cell_type": "code",
   "execution_count": 129,
   "metadata": {},
   "outputs": [
    {
     "name": "stdout",
     "output_type": "stream",
     "text": [
      "GAME: XCOM: Enemy Unknown                      Similarity: 0.72\n",
      "GAME: Endless Space 2                          Similarity: 0.69\n",
      "GAME: Stellaris                                Similarity: 0.69\n",
      "GAME: The Elder Scrolls III: Morrowind Game of the Year Edition Similarity: 0.68\n",
      "GAME: Wasteland 2: Director's Cut              Similarity: 0.68\n",
      "GAME: Frostpunk                                Similarity: 0.67\n"
     ]
    }
   ],
   "source": [
    "find_closest(add_tag('Fantasy', 'Surviving Mars'))"
   ]
  },
  {
   "cell_type": "code",
   "execution_count": 130,
   "metadata": {},
   "outputs": [
    {
     "name": "stdout",
     "output_type": "stream",
     "text": [
      "GAME: Starpoint Gemini 2                       Similarity: 0.92\n",
      "GAME: X Rebirth                                Similarity: 0.92\n",
      "GAME: X3: Terran Conflict                      Similarity: 0.92\n",
      "GAME: Endless Sky                              Similarity: 0.91\n",
      "GAME: Ashes of the Singularity: Escalation     Similarity: 0.9\n",
      "GAME: Avorion                                  Similarity: 0.88\n"
     ]
    }
   ],
   "source": [
    "find_closest(subtract_tag('Colony Sim', 'Surviving Mars'))"
   ]
  },
  {
   "cell_type": "markdown",
   "metadata": {},
   "source": [
    "These are looked at further in the next notebook."
   ]
  }
 ],
 "metadata": {
  "kernelspec": {
   "display_name": "Python 3",
   "language": "python",
   "name": "python3"
  },
  "language_info": {
   "codemirror_mode": {
    "name": "ipython",
    "version": 3
   },
   "file_extension": ".py",
   "mimetype": "text/x-python",
   "name": "python",
   "nbconvert_exporter": "python",
   "pygments_lexer": "ipython3",
   "version": "3.7.1"
  }
 },
 "nbformat": 4,
 "nbformat_minor": 2
}
